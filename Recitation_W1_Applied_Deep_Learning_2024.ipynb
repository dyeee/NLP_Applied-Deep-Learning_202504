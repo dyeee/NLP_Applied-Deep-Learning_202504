{
  "nbformat": 4,
  "nbformat_minor": 0,
  "metadata": {
    "colab": {
      "provenance": [],
      "gpuType": "T4",
      "include_colab_link": true
    },
    "kernelspec": {
      "name": "python3",
      "display_name": "Python 3"
    },
    "language_info": {
      "name": "python"
    },
    "accelerator": "GPU"
  },
  "cells": [
    {
      "cell_type": "markdown",
      "metadata": {
        "id": "view-in-github",
        "colab_type": "text"
      },
      "source": [
        "<a href=\"https://colab.research.google.com/github/dyeee/NLP_Applied-Deep-Learning_202504/blob/main/Recitation_W1_Applied_Deep_Learning_2024.ipynb\" target=\"_parent\"><img src=\"https://colab.research.google.com/assets/colab-badge.svg\" alt=\"Open In Colab\"/></a>"
      ]
    },
    {
      "cell_type": "markdown",
      "source": [
        "# Recitation on Development Infrastructure and PyTorch Tutorial\n",
        "\n",
        "## Contents\n",
        "1. Google Colab Basics\n",
        "2. GPU Environment in Colab\n",
        "3. Introduction to PyTorch\n",
        "4. Python Debugging Tools"
      ],
      "metadata": {
        "id": "OU0Kz1xCObIq"
      }
    },
    {
      "cell_type": "code",
      "execution_count": 2,
      "metadata": {
        "colab": {
          "base_uri": "https://localhost:8080/"
        },
        "id": "Ewh2URgYOUrZ",
        "outputId": "107e82af-d6ba-45d7-d95c-71dfdee68ac8"
      },
      "outputs": [
        {
          "output_type": "stream",
          "name": "stdout",
          "text": [
            "Mounted at /content/drive\n"
          ]
        }
      ],
      "source": [
        "### 1. Google Colab Basics\n",
        "# Mount Google Drive\n",
        "from google.colab import drive\n",
        "drive.mount('/content/drive')"
      ]
    },
    {
      "cell_type": "code",
      "source": [
        "from pathlib import Path\n",
        "for path in Path('/content/drive/MyDrive/').glob(\"*\"):\n",
        "  print(path)"
      ],
      "metadata": {
        "id": "PDY9698FRo1I",
        "collapsed": true,
        "outputId": "84c91d81-292f-462b-edcf-ac1f0c3cd24b",
        "colab": {
          "base_uri": "https://localhost:8080/"
        }
      },
      "execution_count": 3,
      "outputs": [
        {
          "output_type": "stream",
          "name": "stdout",
          "text": [
            "/content/drive/MyDrive/Google Sheets.lnk\n",
            "/content/drive/MyDrive/Google Slides.lnk\n",
            "/content/drive/MyDrive/Google Docs.lnk\n",
            "/content/drive/MyDrive/普物中文版\n",
            "/content/drive/MyDrive/營服正面\n",
            "/content/drive/MyDrive/營服背面.png\n",
            "/content/drive/MyDrive/地科營海報初稿.jpg\n",
            "/content/drive/MyDrive/營帽.jpg\n",
            "/content/drive/MyDrive/final地科營海報.jpg\n",
            "/content/drive/MyDrive/音響社\n",
            "/content/drive/MyDrive/檔\n",
            "/content/drive/MyDrive/面試照\n",
            "/content/drive/MyDrive/傳單.jpg\n",
            "/content/drive/MyDrive/美影組企劃書.docx\n",
            "/content/drive/MyDrive/理院演講週\n",
            "/content/drive/MyDrive/真紅眼黑龍.jpg\n",
            "/content/drive/MyDrive/Chapter11.ppt\n",
            "/content/drive/MyDrive/倒數一週.avi\n",
            "/content/drive/MyDrive/招生片.mp4\n",
            "/content/drive/MyDrive/羊\n",
            "/content/drive/MyDrive/A2074.jpg\n",
            "/content/drive/MyDrive/Project1 (1).exe\n",
            "/content/drive/MyDrive/Project1.exe\n",
            "/content/drive/MyDrive/迎新手冊\n",
            "/content/drive/MyDrive/展覽\n",
            "/content/drive/MyDrive/總表02.jpg\n",
            "/content/drive/MyDrive/識別證107108\n",
            "/content/drive/MyDrive/決賽圖\n",
            "/content/drive/MyDrive/第六組128至131虌溪野外地質調查.pptx\n",
            "/content/drive/MyDrive/Mid3\n",
            "/content/drive/MyDrive/sun.bmp\n",
            "/content/drive/MyDrive/solar_system\n",
            "/content/drive/MyDrive/mid4\n",
            "/content/drive/MyDrive/mid5\n",
            "/content/drive/MyDrive/QR Code Auto Generator Template - 副本.gsheet\n",
            "/content/drive/MyDrive/小畢典邀請卡\n",
            "/content/drive/MyDrive/地工\n",
            "/content/drive/MyDrive/岩石\n",
            "/content/drive/MyDrive/mid7\n",
            "/content/drive/MyDrive/營手冊.xps\n",
            "/content/drive/MyDrive/日記\n",
            "/content/drive/MyDrive/營手冊封.jpg\n",
            "/content/drive/MyDrive/營手冊背面.jpg\n",
            "/content/drive/MyDrive/結業證書.pdf\n",
            "/content/drive/MyDrive/營手冊.docx\n",
            "/content/drive/MyDrive/cul\n",
            "/content/drive/MyDrive/1468316596759.jpg\n",
            "/content/drive/MyDrive/貼圖\n",
            "/content/drive/MyDrive/工數筆記\n",
            "/content/drive/MyDrive/MM4.png\n",
            "/content/drive/MyDrive/WW7.png\n",
            "/content/drive/MyDrive/RR2.png\n",
            "/content/drive/MyDrive/彼得地史\n",
            "/content/drive/MyDrive/天氣瓶數量~.gsheet\n",
            "/content/drive/MyDrive/利吉.doc\n",
            "/content/drive/MyDrive/C44021252期中後.rar\n",
            "/content/drive/MyDrive/無標題簡報 (1).gslides\n",
            "/content/drive/MyDrive/demo影片.mp4\n",
            "/content/drive/MyDrive/影片final.mp4\n",
            "/content/drive/MyDrive/PowerBI Project.rar\n",
            "/content/drive/MyDrive/49.ods.gsheet\n",
            "/content/drive/MyDrive/系所\n",
            "/content/drive/MyDrive/16. 1992-3恆春半島墾丁層層位及時代的檢討.pdf\n",
            "/content/drive/MyDrive/130.從全新世隆起珊瑚礁海階分析恆春斷層的活動特性.pdf\n",
            "/content/drive/MyDrive/80. 2005-恆春半島增積岩體的構造與地層特性：全新世恆春斷層的活動性.pdf\n",
            "/content/drive/MyDrive/2. 1985-1臺灣南部恆春半島之地質.PDF\n",
            "/content/drive/MyDrive/4. 1986-1臺灣恆春半島中新世地層之生痕化石.PDF\n",
            "/content/drive/MyDrive/9. 1990-1西恆春臺地地層之檢討.PDF\n",
            "/content/drive/MyDrive/1. 1984樂水層 臺灣南部恆春半島深海相砂岩.pdf\n",
            "/content/drive/MyDrive/矽谷行程.gslides\n",
            "/content/drive/MyDrive/貼圖2\n",
            "/content/drive/MyDrive/暫存\n",
            "/content/drive/MyDrive/恆春半島地質圖.gmap\n",
            "/content/drive/MyDrive/吊飾\n",
            "/content/drive/MyDrive/礦物卡.xlsx\n",
            "/content/drive/MyDrive/礦物卡.gsheet\n",
            "/content/drive/MyDrive/交易牌.gsheet\n",
            "/content/drive/MyDrive/技能卡.gsheet\n",
            "/content/drive/MyDrive/緬甸野外報告 (3).gdoc\n",
            "/content/drive/MyDrive/緬甸野外報告 (2).gdoc\n",
            "/content/drive/MyDrive/緬甸野外報告 (1).gdoc\n",
            "/content/drive/MyDrive/緬甸野外報告.gdoc\n",
            "/content/drive/MyDrive/研究所考古題\n",
            "/content/drive/MyDrive/破解檔\n",
            "/content/drive/MyDrive/機車標誌是非題-中文 (1).gdoc\n",
            "/content/drive/MyDrive/機車標誌是非題-中文.gdoc\n",
            "/content/drive/MyDrive/機車標誌選擇題-中文.gdoc\n",
            "/content/drive/MyDrive/機車法規選擇題-中文 (4).gdoc\n",
            "/content/drive/MyDrive/機車法規選擇題-中文 (3).gdoc\n",
            "/content/drive/MyDrive/機車法規選擇題-中文 (2).gdoc\n",
            "/content/drive/MyDrive/機車法規選擇題-中文 (1).gdoc\n",
            "/content/drive/MyDrive/機車法規選擇題-中文.gdoc\n",
            "/content/drive/MyDrive/C14 dating\n",
            "/content/drive/MyDrive/地質科學導論上 - 野外保險資料填寫.gform\n",
            "/content/drive/MyDrive/地質科學導論上 - 野外保險資料填寫 (回應).gsheet\n",
            "/content/drive/MyDrive/Untitled form.gform\n",
            "/content/drive/MyDrive/Untitled form (回應).gsheet\n",
            "/content/drive/MyDrive/阿山\n",
            "/content/drive/MyDrive/Pet39299.pdf\n",
            "/content/drive/MyDrive/台灣地質探索野外資料填寫.gform\n",
            "/content/drive/MyDrive/台灣地質探索野外資料填寫 (回應).gsheet\n",
            "/content/drive/MyDrive/107地質科學導論下-5 17~5 19野外保險資料.gform\n",
            "/content/drive/MyDrive/107地質科學導論下-5 17~5 19野外保險資料 (回應).gsheet\n",
            "/content/drive/MyDrive/201906041451390.gsheet\n",
            "/content/drive/MyDrive/5 4~5 5野外地質實習野外保險資料填寫.gform\n",
            "/content/drive/MyDrive/5 4~5 5野外地質實習野外保險資料填寫 (回應).gsheet\n",
            "/content/drive/MyDrive/macrofossil.xlsx\n",
            "/content/drive/MyDrive/7 29(一)晚宴人數統計.gform\n",
            "/content/drive/MyDrive/地質論文寫作 期中報告.gslides\n",
            "/content/drive/MyDrive/輻防_紹伊.pdf\n",
            "/content/drive/MyDrive/台大寶礦社🎄12 20養晶社課報名🎄.gform\n",
            "/content/drive/MyDrive/合格證明書 .pdf\n",
            "/content/drive/MyDrive/abstract.docx\n",
            "/content/drive/MyDrive/無標題簡報.gslides\n",
            "/content/drive/MyDrive/tf89910445.gslides\n",
            "/content/drive/MyDrive/地質學會長摘要初稿.gdoc\n",
            "/content/drive/MyDrive/地質學會長摘要.gdoc\n",
            "/content/drive/MyDrive/專討二講稿修改.gdoc\n",
            "/content/drive/MyDrive/青論.pptx\n",
            "/content/drive/MyDrive/初稿_系辦.docx\n",
            "/content/drive/MyDrive/初稿.docx\n",
            "/content/drive/MyDrive/Meeting筆記.gdoc\n",
            "/content/drive/MyDrive/10 8 (四) 晚宴人數統計.gform\n",
            "/content/drive/MyDrive/工\n",
            "/content/drive/MyDrive/gdu-vnti-xoa - 2021年1月2日.gjam\n",
            "/content/drive/MyDrive/gdu-vnti-xoa - 2021年1月2日.pdf\n",
            "/content/drive/MyDrive/1.16.5 mods.gdoc\n",
            "/content/drive/MyDrive/1.16.5 mods 20210929.gdoc\n",
            "/content/drive/MyDrive/黃金博物館17歲 主視覺設計.gslides\n",
            "/content/drive/MyDrive/含水鎂-鈣鋁榴石之紅外光譜特性_參考文獻.gdoc\n",
            "/content/drive/MyDrive/UK school.gsheet\n",
            "/content/drive/MyDrive/Minecraft\n",
            "/content/drive/MyDrive/mods_forge 1.16.5_UK_20220202.gdoc\n",
            "/content/drive/MyDrive/[展版]初稿繳交區\n",
            "/content/drive/MyDrive/[展版]完稿繳交區\n",
            "/content/drive/MyDrive/手工結晶瓶聖誕樹~☆.gform\n",
            "/content/drive/MyDrive/手工結晶瓶聖誕樹~☆ (回應).gsheet\n",
            "/content/drive/MyDrive/我要買天氣瓶:-).gform\n",
            "/content/drive/MyDrive/我要買天氣瓶:-) (回應).gsheet\n",
            "/content/drive/MyDrive/礦菓子 - 礦物明信片 書籤 貼紙網路訂單.gform\n",
            "/content/drive/MyDrive/RPG.gdoc\n",
            "/content/drive/MyDrive/Personal statement\n",
            "/content/drive/MyDrive/CV for MSc Geo-Energy with Machine Learning and Data Science at Imperial College London.gdoc\n",
            "/content/drive/MyDrive/forge-1.18.2-40.1.0-installer.jar\n",
            "/content/drive/MyDrive/1.18.2_forge_fortress_20221007.rar\n",
            "/content/drive/MyDrive/Wegotrunners0.4.jar\n",
            "/content/drive/MyDrive/MineCrony 14-02-2023.gdoc\n",
            "/content/drive/MyDrive/MineCrony 28-02-2023.gdoc\n",
            "/content/drive/MyDrive/Spinel_6.png\n",
            "/content/drive/MyDrive/Benitoite.png\n",
            "/content/drive/MyDrive/Emerald.png\n",
            "/content/drive/MyDrive/Amazonite.png\n",
            "/content/drive/MyDrive/Topaz_2.png\n",
            "/content/drive/MyDrive/Amethyst.png\n",
            "/content/drive/MyDrive/Olivine_3.png\n",
            "/content/drive/MyDrive/Apatite3.png\n",
            "/content/drive/MyDrive/Zircon_2.png\n",
            "/content/drive/MyDrive/礦物猜謎~ 礦物磁鐵訂購.gform\n",
            "/content/drive/MyDrive/礦物猜謎~ 礦物磁鐵訂購 (回覆).gsheet\n",
            "/content/drive/MyDrive/Writing_20230502.gdoc\n",
            "/content/drive/MyDrive/未命名簡報.gslides\n",
            "/content/drive/MyDrive/礦物磁鐵 紙膠帶訂購.gform\n",
            "/content/drive/MyDrive/draw.io\n",
            "/content/drive/MyDrive/iLovePDF\n",
            "/content/drive/MyDrive/IELTS\n",
            "/content/drive/MyDrive/donut feedback (1).gslides\n",
            "/content/drive/MyDrive/donut feedback.gslides\n",
            "/content/drive/MyDrive/WebDev project presentation template.gslides\n",
            "/content/drive/MyDrive/Share\n",
            "/content/drive/MyDrive/pract3.pdf\n",
            "/content/drive/MyDrive/彥宇_FTIR methodology_script_20240307.gdoc\n",
            "/content/drive/MyDrive/Reply_YenYu.gdoc\n",
            "/content/drive/MyDrive/pract3.gdoc\n",
            "/content/drive/MyDrive/Translated copy of pract3.gdoc\n",
            "/content/drive/MyDrive/Cover letter.gdoc\n",
            "/content/drive/MyDrive/「pract3」的翻譯版本.gdoc\n",
            "/content/drive/MyDrive/Code_Challenge_2024_Standard_Edition.pdf\n",
            "/content/drive/MyDrive/Code_Challenge_2024_Standard_Edition.gdoc\n",
            "/content/drive/MyDrive/Translated copy of Code_Challenge_2024_Standard_Edition.gdoc\n",
            "/content/drive/MyDrive/彥宇救我.gdoc\n",
            "/content/drive/MyDrive/Colab Notebooks\n",
            "/content/drive/MyDrive/Network_ex\n",
            "/content/drive/MyDrive/bq-results-20240709-230638-1720567101825\n",
            "/content/drive/MyDrive/MEV-boost-ML-main.zip\n",
            "/content/drive/MyDrive/capcon2F.yaml\n",
            "/content/drive/MyDrive/capcon2F.pgm\n",
            "/content/drive/MyDrive/Untitled document.gdoc\n",
            "/content/drive/MyDrive/fb_login.py\n",
            "/content/drive/MyDrive/Research Design Framework.drawio\n",
            "/content/drive/MyDrive/Random Forest.drawio\n",
            "/content/drive/MyDrive/Interview guide\n",
            "/content/drive/MyDrive/Structure Diagram for MEV-Boost Auction Analysis.drawio\n",
            "/content/drive/MyDrive/MEV-boost0.drawio\n",
            "/content/drive/MyDrive/MEV-boost1.drawio 的副本\n",
            "/content/drive/MyDrive/MSc Project.zip\n",
            "/content/drive/MyDrive/MSc presentation\n",
            "/content/drive/MyDrive/KCL\n",
            "/content/drive/MyDrive/IR thermometer.drawio\n",
            "/content/drive/MyDrive/IR thermometer.jpg\n",
            "/content/drive/MyDrive/Elsevier Review_IR Geothermometer_2024.gdoc\n",
            "/content/drive/MyDrive/application_Shao-I Kao_202501\n",
            "/content/drive/MyDrive/IR Geothermometer patent.drawio\n",
            "/content/drive/MyDrive/IR thermometer patent_202501.gdoc\n",
            "/content/drive/MyDrive/FTIR-Geothermometer UK Patent Specification_drawing.gdoc\n",
            "/content/drive/MyDrive/FTIR-Geothermometer UK Patent Specification.gdoc\n",
            "/content/drive/MyDrive/20250211_IR_geothermometer_final.gdoc\n",
            "/content/drive/MyDrive/Estimated expenses - JM_20250313.gsheet\n",
            "/content/drive/MyDrive/temp.zip\n",
            "/content/drive/MyDrive/Meeting Notes – March 20.docx\n"
          ]
        }
      ]
    },
    {
      "cell_type": "code",
      "source": [
        "!pip show torch\n",
        "# !pip install torch"
      ],
      "metadata": {
        "colab": {
          "base_uri": "https://localhost:8080/"
        },
        "id": "5MCQ2ZztQ6Z6",
        "outputId": "65143181-3568-4c5c-8e24-edf0cc58419d"
      },
      "execution_count": 5,
      "outputs": [
        {
          "output_type": "stream",
          "name": "stdout",
          "text": [
            "Name: torch\n",
            "Version: 2.6.0+cu124\n",
            "Summary: Tensors and Dynamic neural networks in Python with strong GPU acceleration\n",
            "Home-page: https://pytorch.org/\n",
            "Author: PyTorch Team\n",
            "Author-email: packages@pytorch.org\n",
            "License: BSD-3-Clause\n",
            "Location: /usr/local/lib/python3.11/dist-packages\n",
            "Requires: filelock, fsspec, jinja2, networkx, nvidia-cublas-cu12, nvidia-cuda-cupti-cu12, nvidia-cuda-nvrtc-cu12, nvidia-cuda-runtime-cu12, nvidia-cudnn-cu12, nvidia-cufft-cu12, nvidia-curand-cu12, nvidia-cusolver-cu12, nvidia-cusparse-cu12, nvidia-cusparselt-cu12, nvidia-nccl-cu12, nvidia-nvjitlink-cu12, nvidia-nvtx-cu12, sympy, triton, typing-extensions\n",
            "Required-by: accelerate, fastai, peft, sentence-transformers, timm, torchaudio, torchvision\n"
          ]
        }
      ]
    },
    {
      "cell_type": "code",
      "source": [
        "# Check GPU availability with PyTorch\n",
        "import torch\n",
        "\n",
        "print(\"Is CUDA available?\", torch.cuda.is_available())\n",
        "print(\"GPU name:\", torch.cuda.get_device_name(0))\n",
        "\n",
        "# Check GPU details with nvidia-smi\n",
        "!nvidia-smi"
      ],
      "metadata": {
        "colab": {
          "base_uri": "https://localhost:8080/"
        },
        "id": "aFpIA5MpOZd3",
        "outputId": "cabc121b-424d-4945-dacc-6ffecc0fbd06"
      },
      "execution_count": 6,
      "outputs": [
        {
          "output_type": "stream",
          "name": "stdout",
          "text": [
            "Is CUDA available? True\n",
            "GPU name: Tesla T4\n",
            "Mon Apr  7 03:57:12 2025       \n",
            "+-----------------------------------------------------------------------------------------+\n",
            "| NVIDIA-SMI 550.54.15              Driver Version: 550.54.15      CUDA Version: 12.4     |\n",
            "|-----------------------------------------+------------------------+----------------------+\n",
            "| GPU  Name                 Persistence-M | Bus-Id          Disp.A | Volatile Uncorr. ECC |\n",
            "| Fan  Temp   Perf          Pwr:Usage/Cap |           Memory-Usage | GPU-Util  Compute M. |\n",
            "|                                         |                        |               MIG M. |\n",
            "|=========================================+========================+======================|\n",
            "|   0  Tesla T4                       Off |   00000000:00:04.0 Off |                    0 |\n",
            "| N/A   45C    P8              9W /   70W |       2MiB /  15360MiB |      0%      Default |\n",
            "|                                         |                        |                  N/A |\n",
            "+-----------------------------------------+------------------------+----------------------+\n",
            "                                                                                         \n",
            "+-----------------------------------------------------------------------------------------+\n",
            "| Processes:                                                                              |\n",
            "|  GPU   GI   CI        PID   Type   Process name                              GPU Memory |\n",
            "|        ID   ID                                                               Usage      |\n",
            "|=========================================================================================|\n",
            "|  No running processes found                                                             |\n",
            "+-----------------------------------------------------------------------------------------+\n"
          ]
        }
      ]
    },
    {
      "cell_type": "markdown",
      "source": [
        "# 1D Array"
      ],
      "metadata": {
        "id": "39jHE-2DRgth"
      }
    },
    {
      "cell_type": "code",
      "source": [
        "import torch\n",
        "\n",
        "# return evenly spaced values within a given interval\n",
        "range_arr_torch = torch.arange(10)\n",
        "print(\"An array given range is \\n\", range_arr_torch, \" with dimensions \", range_arr_torch.shape, \"\\n\")\n",
        "\n",
        "# return evenly spaced numbers over a specified interval\n",
        "linspace_arr_torch = torch.linspace(2.0, 3.0, steps=5)\n",
        "print(\"An evenly spaced array given range is \\n\", linspace_arr_torch, \" with dimensions \", linspace_arr_torch.shape, \"\\n\")\n"
      ],
      "metadata": {
        "colab": {
          "base_uri": "https://localhost:8080/"
        },
        "id": "hEN6Nf4ORQwn",
        "outputId": "32cf63a6-a25c-4f0a-8829-d321cd0af1df"
      },
      "execution_count": 7,
      "outputs": [
        {
          "output_type": "stream",
          "name": "stdout",
          "text": [
            "An array given range is \n",
            " tensor([0, 1, 2, 3, 4, 5, 6, 7, 8, 9])  with dimensions  torch.Size([10]) \n",
            "\n",
            "An evenly spaced array given range is \n",
            " tensor([2.0000, 2.2500, 2.5000, 2.7500, 3.0000])  with dimensions  torch.Size([5]) \n",
            "\n"
          ]
        }
      ]
    },
    {
      "cell_type": "code",
      "source": [
        "# Tensor with uniform distribution between 0 and 1\n",
        "uniform_tensor = torch.rand(10)\n",
        "print(\"Random tensor with elements sampled from a Uniform(0,1) distribution: \\n\", uniform_tensor, \"\\n with dimensions \", uniform_tensor.shape, \"\\n\")"
      ],
      "metadata": {
        "colab": {
          "base_uri": "https://localhost:8080/"
        },
        "id": "h7YVwXxtSgdw",
        "outputId": "b39d96cc-54c9-48d1-c06d-b74cbf5a4e42"
      },
      "execution_count": 8,
      "outputs": [
        {
          "output_type": "stream",
          "name": "stdout",
          "text": [
            "Random tensor with elements sampled from a Uniform(0,1) distribution: \n",
            " tensor([0.0013, 0.5462, 0.8952, 0.2750, 0.9150, 0.8390, 0.4403, 0.1462, 0.8710,\n",
            "        0.4406]) \n",
            " with dimensions  torch.Size([10]) \n",
            "\n"
          ]
        }
      ]
    },
    {
      "cell_type": "code",
      "source": [
        "# Random tensor with normal distribution (mean=0, std=1)\n",
        "randn_tensor = torch.randn(10)\n",
        "print(\"Random tensor with elements sampled from a N(0,1) distribution: \\n\", randn_tensor, \"\\n with dimensions \", randn_tensor.shape, \"\\n\")"
      ],
      "metadata": {
        "colab": {
          "base_uri": "https://localhost:8080/"
        },
        "id": "5tt-H4EhTAvH",
        "outputId": "51b96124-98a5-4116-fd57-1ae74521988b"
      },
      "execution_count": 9,
      "outputs": [
        {
          "output_type": "stream",
          "name": "stdout",
          "text": [
            "Random tensor with elements sampled from a N(0,1) distribution: \n",
            " tensor([ 1.6468, -2.3943, -0.9057, -0.3363,  0.1597,  0.6608,  0.0458,  0.2429,\n",
            "         0.0838, -0.2157]) \n",
            " with dimensions  torch.Size([10]) \n",
            "\n"
          ]
        }
      ]
    },
    {
      "cell_type": "code",
      "source": [
        "# Tensor with all ones\n",
        "ones_tensor = torch.ones(10)\n",
        "print(\"Tensor with all elements set to 1: \\n\", ones_tensor, \"\\n with dimensions \", ones_tensor.shape, \"\\n\")"
      ],
      "metadata": {
        "colab": {
          "base_uri": "https://localhost:8080/"
        },
        "id": "7rkqIh8WTAsb",
        "outputId": "0f050539-a431-4e54-805e-f4881b5b2484"
      },
      "execution_count": null,
      "outputs": [
        {
          "output_type": "stream",
          "name": "stdout",
          "text": [
            "Tensor with all elements set to 1: \n",
            " tensor([1., 1., 1., 1., 1., 1., 1., 1., 1., 1.]) \n",
            " with dimensions  torch.Size([10]) \n",
            "\n"
          ]
        }
      ]
    },
    {
      "cell_type": "code",
      "source": [
        "# Tensor with all zeros\n",
        "zeros_tensor = torch.zeros(10)\n",
        "print(\"Tensor with all elements set to 0: \\n\", zeros_tensor, \"\\n with dimensions \", zeros_tensor.shape, \"\\n\")"
      ],
      "metadata": {
        "colab": {
          "base_uri": "https://localhost:8080/"
        },
        "id": "n6eg8-UyTAp8",
        "outputId": "2bbbaa76-628b-44a5-9e28-5e67049a928f"
      },
      "execution_count": null,
      "outputs": [
        {
          "output_type": "stream",
          "name": "stdout",
          "text": [
            "Tensor with all elements set to 0: \n",
            " tensor([0., 0., 0., 0., 0., 0., 0., 0., 0., 0.]) \n",
            " with dimensions  torch.Size([10]) \n",
            "\n"
          ]
        }
      ]
    },
    {
      "cell_type": "code",
      "source": [
        "# Tensor from list\n",
        "list_tensor = torch.tensor([1, 2, 3, 4, 5])\n",
        "print(\"Tensor created from a list: \\n\", list_tensor, \"\\n with dimensions \", list_tensor.shape, \"\\n\")"
      ],
      "metadata": {
        "colab": {
          "base_uri": "https://localhost:8080/"
        },
        "id": "eu5YIfGATAnk",
        "outputId": "a555b124-4ff6-459c-f286-39e7190d66a4"
      },
      "execution_count": null,
      "outputs": [
        {
          "output_type": "stream",
          "name": "stdout",
          "text": [
            "Tensor created from a list: \n",
            " tensor([1, 2, 3, 4, 5]) \n",
            " with dimensions  torch.Size([5]) \n",
            "\n"
          ]
        }
      ]
    },
    {
      "cell_type": "code",
      "source": [
        "# Cloning a tensor\n",
        "cloned_tensor = list_tensor.clone()\n",
        "print(\"Cloned tensor: \\n\", cloned_tensor, \"\\n with dimensions \", cloned_tensor.shape, \"\\n\")"
      ],
      "metadata": {
        "colab": {
          "base_uri": "https://localhost:8080/"
        },
        "id": "4WbV3GiyTAkj",
        "outputId": "78a8333b-244b-4072-8871-6b8681d66bc3"
      },
      "execution_count": null,
      "outputs": [
        {
          "output_type": "stream",
          "name": "stdout",
          "text": [
            "Cloned tensor: \n",
            " tensor([1, 2, 3, 4, 5]) \n",
            " with dimensions  torch.Size([5]) \n",
            "\n"
          ]
        }
      ]
    },
    {
      "cell_type": "code",
      "source": [
        "# Tensor with no autograd tracking\n",
        "with torch.no_grad():\n",
        "    no_grad_tensor = torch.tensor([1, 2, 3], dtype=torch.float32)\n",
        "print(\"Tensor with no autograd tracking: \\n\", no_grad_tensor, \"\\n with dimensions \", no_grad_tensor.shape, \"\\n\")"
      ],
      "metadata": {
        "colab": {
          "base_uri": "https://localhost:8080/"
        },
        "id": "jtowwdAZTAdX",
        "outputId": "9e63c845-14c9-4050-8056-2a3ab572a892"
      },
      "execution_count": null,
      "outputs": [
        {
          "output_type": "stream",
          "name": "stdout",
          "text": [
            "Tensor with no autograd tracking: \n",
            " tensor([1., 2., 3.]) \n",
            " with dimensions  torch.Size([3]) \n",
            "\n"
          ]
        }
      ]
    },
    {
      "cell_type": "code",
      "source": [
        "# Tensor with requires_grad=True\n",
        "grad_tensor = torch.tensor([1, 2, 3], dtype=torch.float32, requires_grad=True)\n",
        "print(\"Tensor with requires_grad=True: \\n\", grad_tensor, \"\\n with dimensions \", grad_tensor.shape, \"\\n\")"
      ],
      "metadata": {
        "colab": {
          "base_uri": "https://localhost:8080/"
        },
        "id": "VwQt1uGFTF_V",
        "outputId": "8920f74b-fd05-4e59-e3ac-5775d8a28e6d"
      },
      "execution_count": null,
      "outputs": [
        {
          "output_type": "stream",
          "name": "stdout",
          "text": [
            "Tensor with requires_grad=True: \n",
            " tensor([1., 2., 3.], requires_grad=True) \n",
            " with dimensions  torch.Size([3]) \n",
            "\n"
          ]
        }
      ]
    },
    {
      "cell_type": "markdown",
      "source": [
        "# Multi-Dimensional Tensor"
      ],
      "metadata": {
        "id": "9WdXHWXtT0di"
      }
    },
    {
      "cell_type": "code",
      "source": [
        "# Tensor with all zeros (shape: 3x4)\n",
        "zeros_tensor = torch.zeros(3, 4)\n",
        "print(\"Tensor with all elements set to 0: \\n\", zeros_tensor, \"\\n with dimensions \", zeros_tensor.shape, \"\\n\")\n",
        "\n",
        "# Tensor with all ones (shape: 3x4)\n",
        "ones_tensor = torch.ones(3, 4)\n",
        "print(\"Tensor with all elements set to 1: \\n\", ones_tensor, \"\\n with dimensions \", ones_tensor.shape, \"\\n\")\n",
        "\n",
        "# Tensor with all elements set to a specific value, e.g., 7 (shape: 3x4)\n",
        "full_tensor = torch.full((3, 4), 7)\n",
        "print(\"Tensor with all elements set to a specific value (7): \\n\", full_tensor, \"\\n with dimensions \", full_tensor.shape, \"\\n\")\n",
        "\n",
        "# Tensor with random values sampled from a uniform distribution between 0 and 1 (shape: 3x4)\n",
        "rand_tensor = torch.rand(3, 4)\n",
        "print(\"Random tensor with elements sampled from a Uniform(0,1) distribution: \\n\", rand_tensor, \"\\n with dimensions \", rand_tensor.shape, \"\\n\")\n"
      ],
      "metadata": {
        "colab": {
          "base_uri": "https://localhost:8080/"
        },
        "id": "IQdfW8F1TF4H",
        "outputId": "461934f2-cf2b-4b32-a8af-2e541cf5ce7e"
      },
      "execution_count": null,
      "outputs": [
        {
          "output_type": "stream",
          "name": "stdout",
          "text": [
            "Tensor with all elements set to 0: \n",
            " tensor([[0., 0., 0., 0.],\n",
            "        [0., 0., 0., 0.],\n",
            "        [0., 0., 0., 0.]]) \n",
            " with dimensions  torch.Size([3, 4]) \n",
            "\n",
            "Tensor with all elements set to 1: \n",
            " tensor([[1., 1., 1., 1.],\n",
            "        [1., 1., 1., 1.],\n",
            "        [1., 1., 1., 1.]]) \n",
            " with dimensions  torch.Size([3, 4]) \n",
            "\n",
            "Tensor with all elements set to a specific value (7): \n",
            " tensor([[7, 7, 7, 7],\n",
            "        [7, 7, 7, 7],\n",
            "        [7, 7, 7, 7]]) \n",
            " with dimensions  torch.Size([3, 4]) \n",
            "\n",
            "Random tensor with elements sampled from a Uniform(0,1) distribution: \n",
            " tensor([[0.4410, 0.8624, 0.9225, 0.9108],\n",
            "        [0.3641, 0.2494, 0.0717, 0.1293],\n",
            "        [0.9618, 0.2327, 0.2088, 0.8742]]) \n",
            " with dimensions  torch.Size([3, 4]) \n",
            "\n"
          ]
        }
      ]
    },
    {
      "cell_type": "code",
      "source": [
        "# Existing tensor (shape: 300x400)\n",
        "existing_tensor = torch.rand(300, 400)\n",
        "\n",
        "# Tensor with all zeros, having the same shape as the existing large tensor\n",
        "zeros_like_tensor = torch.zeros_like(existing_tensor)\n",
        "print(\"Tensor with all elements set to 0, like the existing large tensor: \\n\", zeros_like_tensor, \"\\n with dimensions \", zeros_like_tensor.shape, \"\\n\")\n",
        "\n",
        "# Tensor with all ones, having the same shape as the existing large tensor\n",
        "ones_like_tensor = torch.ones_like(existing_tensor)\n",
        "print(\"Tensor with all elements set to 1, like the existing large tensor: \\n\", ones_like_tensor, \"\\n with dimensions \", ones_like_tensor.shape, \"\\n\")\n",
        "\n",
        "# Tensor with all elements set to a specific value, e.g., 7, having the same shape as the existing large tensor\n",
        "full_like_tensor = torch.full_like(existing_tensor, 7)\n",
        "print(\"Tensor with all elements set to a specific value (7), like the existing large tensor: \\n\", full_like_tensor, \"\\n with dimensions \", full_like_tensor.shape, \"\\n\")"
      ],
      "metadata": {
        "colab": {
          "base_uri": "https://localhost:8080/"
        },
        "id": "A162rhcBTF1h",
        "outputId": "f7c358bd-cc15-47fb-cdca-9d221ca4f449"
      },
      "execution_count": null,
      "outputs": [
        {
          "output_type": "stream",
          "name": "stdout",
          "text": [
            "Tensor with all elements set to 0, like the existing large tensor: \n",
            " tensor([[0., 0., 0.,  ..., 0., 0., 0.],\n",
            "        [0., 0., 0.,  ..., 0., 0., 0.],\n",
            "        [0., 0., 0.,  ..., 0., 0., 0.],\n",
            "        ...,\n",
            "        [0., 0., 0.,  ..., 0., 0., 0.],\n",
            "        [0., 0., 0.,  ..., 0., 0., 0.],\n",
            "        [0., 0., 0.,  ..., 0., 0., 0.]]) \n",
            " with dimensions  torch.Size([300, 400]) \n",
            "\n",
            "Tensor with all elements set to 1, like the existing large tensor: \n",
            " tensor([[1., 1., 1.,  ..., 1., 1., 1.],\n",
            "        [1., 1., 1.,  ..., 1., 1., 1.],\n",
            "        [1., 1., 1.,  ..., 1., 1., 1.],\n",
            "        ...,\n",
            "        [1., 1., 1.,  ..., 1., 1., 1.],\n",
            "        [1., 1., 1.,  ..., 1., 1., 1.],\n",
            "        [1., 1., 1.,  ..., 1., 1., 1.]]) \n",
            " with dimensions  torch.Size([300, 400]) \n",
            "\n",
            "Tensor with all elements set to a specific value (7), like the existing large tensor: \n",
            " tensor([[7., 7., 7.,  ..., 7., 7., 7.],\n",
            "        [7., 7., 7.,  ..., 7., 7., 7.],\n",
            "        [7., 7., 7.,  ..., 7., 7., 7.],\n",
            "        ...,\n",
            "        [7., 7., 7.,  ..., 7., 7., 7.],\n",
            "        [7., 7., 7.,  ..., 7., 7., 7.],\n",
            "        [7., 7., 7.,  ..., 7., 7., 7.]]) \n",
            " with dimensions  torch.Size([300, 400]) \n",
            "\n"
          ]
        }
      ]
    },
    {
      "cell_type": "code",
      "source": [
        "import numpy as np\n",
        "\n",
        "# Create a NumPy ndarray (shape: 3x4)\n",
        "ndarray = np.array([[1, 2, 3, 4], [5, 6, 7, 8], [9, 10, 11, 12]])\n",
        "\n",
        "# Create a PyTorch tensor from the NumPy ndarray\n",
        "tensor_from_ndarray = torch.tensor(ndarray)\n",
        "print(\"Tensor created from a NumPy ndarray: \\n\", tensor_from_ndarray, \"\\n with dimensions \", tensor_from_ndarray.shape, \"\\n\")\n"
      ],
      "metadata": {
        "colab": {
          "base_uri": "https://localhost:8080/"
        },
        "id": "94WlxtnFUb90",
        "outputId": "2314b2bb-593c-47b7-8f38-28574aa5b708"
      },
      "execution_count": null,
      "outputs": [
        {
          "output_type": "stream",
          "name": "stdout",
          "text": [
            "Tensor created from a NumPy ndarray: \n",
            " tensor([[ 1,  2,  3,  4],\n",
            "        [ 5,  6,  7,  8],\n",
            "        [ 9, 10, 11, 12]]) \n",
            " with dimensions  torch.Size([3, 4]) \n",
            "\n"
          ]
        }
      ]
    },
    {
      "cell_type": "code",
      "source": [
        "# Create an example tensor (shape: 3x4)\n",
        "x = torch.tensor([[1, 2, 3, 4], [5, 6, 7, 8], [9, 10, 11, 12]])\n",
        "\n",
        "# Get dimensions of tensor x\n",
        "print(\"Size of x: \", x.size(), \"\\n\")\n",
        "\n",
        "# Concatenate tensors (example: along dimension 0)\n",
        "tensor_seq = [torch.tensor([13, 14, 15, 16]), torch.tensor([17, 18, 19, 20])]\n",
        "x_cat = torch.cat(tensor_seq, dim=0)\n",
        "print(\"Concatenated tensor x_cat: \\n\", x_cat, \"\\n with dimensions \", x_cat.shape, \"\\n\")\n",
        "\n",
        "# Reshape tensor\n",
        "y_reshape = x.view(2, 6)\n",
        "print(\"Reshaped tensor y: \\n\", y_reshape, \"\\n with dimensions \", y_reshape.shape, \"\\n\")\n",
        "\n",
        "# Reshape with inferred dimension\n",
        "y_infer = x.view(-1, 6)\n",
        "print(\"Reshaped tensor with inferred dimension y: \\n\", y_infer, \"\\n with dimensions \", y_infer.shape, \"\\n\")\n",
        "\n",
        "# Transpose tensor\n",
        "y_transpose = x.transpose(0, 1)\n",
        "print(\"Transposed tensor y: \\n\", y_transpose, \"\\n with dimensions \", y_transpose.shape, \"\\n\")\n",
        "\n",
        "# Permute dimensions\n",
        "y_permute = x.permute(1, 0)\n",
        "print(\"Permuted tensor y: \\n\", y_permute, \"\\n with dimensions \", y_permute.shape, \"\\n\")\n",
        "\n",
        "# Add dimension\n",
        "y_unsqueeze = x.unsqueeze(dim=0)\n",
        "print(\"Unsqueezed tensor y: \\n\", y_unsqueeze, \"\\n with dimensions \", y_unsqueeze.shape, \"\\n\")\n",
        "\n",
        "# Add dimension at specified index\n",
        "y_unsqueeze_specific = x.unsqueeze(dim=2)\n",
        "print(\"Specifically unsqueezed tensor y: \\n\", y_unsqueeze_specific, \"\\n with dimensions \", y_unsqueeze_specific.shape, \"\\n\")\n",
        "\n",
        "# Remove dimensions of size 1\n",
        "y_squeeze = y_unsqueeze_specific.squeeze()\n",
        "print(\"Squeezed tensor y: \\n\", y_squeeze, \"\\n with dimensions \", y_squeeze.shape, \"\\n\")\n",
        "\n",
        "# Remove specified dimensions of size 1\n",
        "y_squeeze_specific = y_unsqueeze_specific.squeeze(dim=2)\n",
        "print(\"Specifically squeezed tensor y: \\n\", y_squeeze_specific, \"\\n with dimensions \", y_squeeze_specific.shape, \"\\n\")"
      ],
      "metadata": {
        "colab": {
          "base_uri": "https://localhost:8080/"
        },
        "id": "7A5vIhWOUx7K",
        "outputId": "c940417b-0333-4ba9-ff2b-e3bfa6f93265"
      },
      "execution_count": null,
      "outputs": [
        {
          "output_type": "stream",
          "name": "stdout",
          "text": [
            "Size of x:  torch.Size([3, 4]) \n",
            "\n",
            "Concatenated tensor x_cat: \n",
            " tensor([13, 14, 15, 16, 17, 18, 19, 20]) \n",
            " with dimensions  torch.Size([8]) \n",
            "\n",
            "Reshaped tensor y: \n",
            " tensor([[ 1,  2,  3,  4,  5,  6],\n",
            "        [ 7,  8,  9, 10, 11, 12]]) \n",
            " with dimensions  torch.Size([2, 6]) \n",
            "\n",
            "Reshaped tensor with inferred dimension y: \n",
            " tensor([[ 1,  2,  3,  4,  5,  6],\n",
            "        [ 7,  8,  9, 10, 11, 12]]) \n",
            " with dimensions  torch.Size([2, 6]) \n",
            "\n",
            "Transposed tensor y: \n",
            " tensor([[ 1,  5,  9],\n",
            "        [ 2,  6, 10],\n",
            "        [ 3,  7, 11],\n",
            "        [ 4,  8, 12]]) \n",
            " with dimensions  torch.Size([4, 3]) \n",
            "\n",
            "Permuted tensor y: \n",
            " tensor([[ 1,  5,  9],\n",
            "        [ 2,  6, 10],\n",
            "        [ 3,  7, 11],\n",
            "        [ 4,  8, 12]]) \n",
            " with dimensions  torch.Size([4, 3]) \n",
            "\n",
            "Unsqueezed tensor y: \n",
            " tensor([[[ 1,  2,  3,  4],\n",
            "         [ 5,  6,  7,  8],\n",
            "         [ 9, 10, 11, 12]]]) \n",
            " with dimensions  torch.Size([1, 3, 4]) \n",
            "\n",
            "Specifically unsqueezed tensor y: \n",
            " tensor([[[ 1],\n",
            "         [ 2],\n",
            "         [ 3],\n",
            "         [ 4]],\n",
            "\n",
            "        [[ 5],\n",
            "         [ 6],\n",
            "         [ 7],\n",
            "         [ 8]],\n",
            "\n",
            "        [[ 9],\n",
            "         [10],\n",
            "         [11],\n",
            "         [12]]]) \n",
            " with dimensions  torch.Size([3, 4, 1]) \n",
            "\n",
            "Squeezed tensor y: \n",
            " tensor([[ 1,  2,  3,  4],\n",
            "        [ 5,  6,  7,  8],\n",
            "        [ 9, 10, 11, 12]]) \n",
            " with dimensions  torch.Size([3, 4]) \n",
            "\n",
            "Specifically squeezed tensor y: \n",
            " tensor([[ 1,  2,  3,  4],\n",
            "        [ 5,  6,  7,  8],\n",
            "        [ 9, 10, 11, 12]]) \n",
            " with dimensions  torch.Size([3, 4]) \n",
            "\n"
          ]
        }
      ]
    },
    {
      "cell_type": "code",
      "source": [
        "# Create a 3D tensor (shape: 2x3x4)\n",
        "x_3d = torch.tensor([[[1, 2, 3, 4], [5, 6, 7, 8], [9, 10, 11, 12]],\n",
        "                     [[13, 14, 15, 16], [17, 18, 19, 20], [21, 22, 23, 24]]])\n",
        "\n",
        "# Get dimensions of 3D tensor x_3d\n",
        "print(\"Size of x_3d: \", x_3d.size(), \"\\n\")\n",
        "\n",
        "# Transpose 3D tensor (swap dimensions 0 and 1)\n",
        "y_transpose_3d = x_3d.transpose(0, 1)\n",
        "print(\"Transposed 3D tensor y: \\n\", y_transpose_3d, \"\\n with dimensions \", y_transpose_3d.shape, \"\\n\")\n",
        "\n",
        "# Permute dimensions of 3D tensor (new order: 1, 0, 2)\n",
        "y_permute_3d = x_3d.permute(1, 0, 2)\n",
        "print(\"Permuted 3D tensor y: \\n\", y_permute_3d, \"\\n with dimensions \", y_permute_3d.shape, \"\\n\")"
      ],
      "metadata": {
        "colab": {
          "base_uri": "https://localhost:8080/"
        },
        "id": "RjpKvuT_WfpK",
        "outputId": "9a7dadb4-731e-4143-df59-368d2675fcc5"
      },
      "execution_count": null,
      "outputs": [
        {
          "output_type": "stream",
          "name": "stdout",
          "text": [
            "Size of x_3d:  torch.Size([2, 3, 4]) \n",
            "\n",
            "Transposed 3D tensor y: \n",
            " tensor([[[ 1,  2,  3,  4],\n",
            "         [13, 14, 15, 16]],\n",
            "\n",
            "        [[ 5,  6,  7,  8],\n",
            "         [17, 18, 19, 20]],\n",
            "\n",
            "        [[ 9, 10, 11, 12],\n",
            "         [21, 22, 23, 24]]]) \n",
            " with dimensions  torch.Size([3, 2, 4]) \n",
            "\n",
            "Permuted 3D tensor y: \n",
            " tensor([[[ 1,  2,  3,  4],\n",
            "         [13, 14, 15, 16]],\n",
            "\n",
            "        [[ 5,  6,  7,  8],\n",
            "         [17, 18, 19, 20]],\n",
            "\n",
            "        [[ 9, 10, 11, 12],\n",
            "         [21, 22, 23, 24]]]) \n",
            " with dimensions  torch.Size([3, 2, 4]) \n",
            "\n"
          ]
        }
      ]
    },
    {
      "cell_type": "markdown",
      "source": [
        "# Debugging in Python\n",
        "* Syntax Error -> ChatGPT\n",
        "* Runtime Error -> IPython pdb (ipdb)\n",
        "* Tensor Error -> ipdb\n",
        "* GPU-related Error -> Next Recitation"
      ],
      "metadata": {
        "id": "HlGMfaHCzwyG"
      }
    },
    {
      "cell_type": "code",
      "source": [
        "!pip install ipdb\n",
        "import ipdb"
      ],
      "metadata": {
        "colab": {
          "base_uri": "https://localhost:8080/"
        },
        "id": "MfSk2zdq0UHK",
        "outputId": "89b1f89f-5b78-4930-d01c-e9152136bb32"
      },
      "execution_count": null,
      "outputs": [
        {
          "output_type": "stream",
          "name": "stdout",
          "text": [
            "Requirement already satisfied: ipdb in /usr/local/lib/python3.10/dist-packages (0.13.13)\n",
            "Requirement already satisfied: ipython>=7.31.1 in /usr/local/lib/python3.10/dist-packages (from ipdb) (7.34.0)\n",
            "Requirement already satisfied: tomli in /usr/local/lib/python3.10/dist-packages (from ipdb) (2.0.1)\n",
            "Requirement already satisfied: decorator in /usr/local/lib/python3.10/dist-packages (from ipdb) (4.4.2)\n",
            "Requirement already satisfied: setuptools>=18.5 in /usr/local/lib/python3.10/dist-packages (from ipython>=7.31.1->ipdb) (67.7.2)\n",
            "Requirement already satisfied: jedi>=0.16 in /usr/local/lib/python3.10/dist-packages (from ipython>=7.31.1->ipdb) (0.19.0)\n",
            "Requirement already satisfied: pickleshare in /usr/local/lib/python3.10/dist-packages (from ipython>=7.31.1->ipdb) (0.7.5)\n",
            "Requirement already satisfied: traitlets>=4.2 in /usr/local/lib/python3.10/dist-packages (from ipython>=7.31.1->ipdb) (5.7.1)\n",
            "Requirement already satisfied: prompt-toolkit!=3.0.0,!=3.0.1,<3.1.0,>=2.0.0 in /usr/local/lib/python3.10/dist-packages (from ipython>=7.31.1->ipdb) (3.0.39)\n",
            "Requirement already satisfied: pygments in /usr/local/lib/python3.10/dist-packages (from ipython>=7.31.1->ipdb) (2.16.1)\n",
            "Requirement already satisfied: backcall in /usr/local/lib/python3.10/dist-packages (from ipython>=7.31.1->ipdb) (0.2.0)\n",
            "Requirement already satisfied: matplotlib-inline in /usr/local/lib/python3.10/dist-packages (from ipython>=7.31.1->ipdb) (0.1.6)\n",
            "Requirement already satisfied: pexpect>4.3 in /usr/local/lib/python3.10/dist-packages (from ipython>=7.31.1->ipdb) (4.8.0)\n",
            "Requirement already satisfied: parso<0.9.0,>=0.8.3 in /usr/local/lib/python3.10/dist-packages (from jedi>=0.16->ipython>=7.31.1->ipdb) (0.8.3)\n",
            "Requirement already satisfied: ptyprocess>=0.5 in /usr/local/lib/python3.10/dist-packages (from pexpect>4.3->ipython>=7.31.1->ipdb) (0.7.0)\n",
            "Requirement already satisfied: wcwidth in /usr/local/lib/python3.10/dist-packages (from prompt-toolkit!=3.0.0,!=3.0.1,<3.1.0,>=2.0.0->ipython>=7.31.1->ipdb) (0.2.6)\n"
          ]
        }
      ]
    },
    {
      "cell_type": "markdown",
      "source": [
        "# 常用的 ipdb 指令解釋：\n",
        "\n",
        "- `n`（next）：繼續執行，直到達到當前函數中的下一行，或者它返回。\n",
        "- `c`（continue）：繼續執行，僅在遇到斷點時停止。\n",
        "- `q`（quit）：退出調試器和程序。\n",
        "- `p`（print）：評估並列印表達式。\n",
        "- `l`（list）：列出當前文件的源代碼。\n",
        "- `s`（step）：執行當前行，並在第一個可能的場合停止（例如，在一個函數呼叫中）。"
      ],
      "metadata": {
        "id": "C206Qt_e0j6x"
      }
    },
    {
      "cell_type": "markdown",
      "source": [
        "使用 `ipdb` 的方法有多種，以下是一些常見的使用案例：\n",
        "\n",
        "1. **啟動調試模式**：直接在命令行中輸入以下指令來啟動 `ipdb` 調試模式。\n",
        "    ```bash\n",
        "    python -m ipdb your_script.py\n",
        "    ```\n",
        "    這會在腳本的開始處暫停執行，允許你逐步執行代碼。\n",
        "\n",
        "2. **自動繼續執行**：如果你只想在設置了斷點（breakpoint）的地方暫停，則可以使用以下指令：\n",
        "    ```bash\n",
        "    python -m ipdb -c continue your_script.py\n",
        "    ```\n",
        "    使用 `-c continue` 會讓腳本在啟動後自動繼續執行，直到達到第一個斷點或是報錯點。\n",
        "\n",
        "3. **指定執行參數**：如果你的腳本需要傳入參數，可以這麼做：\n",
        "    ```bash\n",
        "    python -m ipdb your_script.py --your-arg value\n",
        "    ```\n",
        "    只需正常地將參數放在腳本名稱後面即可\n",
        "\n",
        "4. **使用條件斷點**：在你的腳本中，你可以添加 `ipdb.set_trace()` 方法來設置斷點。要讓斷點有條件地觸發，可以這樣使用：\n",
        "    ```python\n",
        "    if some_condition:\n",
        "        ipdb.set_trace()\n",
        "    ```\n",
        "5. **例外時自動觸發調試**：如果你希望只在出現未捕獲的例外（exception）時啟動 `ipdb`，可以使用 `ipdb.launch_ipdb_on_exception()` 上下文管理器。這在嘗試調試偶爾出錯的代碼時特別有用。\n",
        "    ```python\n",
        "    with ipdb.launch_ipdb_on_exception():\n",
        "        main()\n",
        "        # 其他可能出錯的代碼...\n",
        "    ```\n",
        "    當 `main()` 函數或其他代碼塊拋出未捕獲的例外時，`ipdb` 會自動啟動，允許你立即檢查問題。\n",
        "\n",
        "這些是在命令行中使用 `ipdb` 的一些基本方法，有助於更有效地進行代碼調試。    "
      ],
      "metadata": {
        "id": "5Z17YJ0H0oNu"
      }
    },
    {
      "cell_type": "code",
      "source": [
        "import torch\n",
        "import torch.nn as nn\n",
        "import torch.optim as optim\n",
        "from torch.utils.data import DataLoader, TensorDataset\n",
        "\n",
        "# 生成假資料\n",
        "n_samples = 1000\n",
        "X = torch.rand(n_samples, 10)\n",
        "y = 3 * X.sum(dim=1) + 2 + torch.randn(n_samples)  # y = 3x + 2 + noise\n",
        "\n",
        "# 建立資料集和資料載入器\n",
        "dataset = TensorDataset(X, y)\n",
        "dataloader = DataLoader(dataset, batch_size=32, shuffle=True)\n",
        "\n",
        "# 定義一個簡單的 MLP 模型\n",
        "class SimpleMLP(nn.Module):\n",
        "    def __init__(self):\n",
        "        super(SimpleMLP, self).__init__()\n",
        "        self.fc1 = nn.Linear(10, 5)\n",
        "        self.fc2 = nn.Linear(5, 1)\n",
        "\n",
        "    def forward(self, x):\n",
        "        x = torch.relu(self.fc1(x))\n",
        "        x = self.fc2(x)\n",
        "        return x"
      ],
      "metadata": {
        "id": "1xkglv6BO7ow"
      },
      "execution_count": null,
      "outputs": []
    },
    {
      "cell_type": "code",
      "source": [
        "# 初始化模型、損失函數和優化器\n",
        "model = SimpleMLP()\n",
        "criterion = nn.MSELoss()\n",
        "optimizer = optim.Adam(model.parameters(), lr=0.001)\n",
        "\n",
        "# 訓練模型\n",
        "for epoch in range(10):\n",
        "    for batch_X, batch_y in dataloader:\n",
        "        # 前向傳播\n",
        "        outputs = model(batch_X)\n",
        "        loss = criterion(outputs, batch_y)\n",
        "\n",
        "        # 反向傳播和優化\n",
        "        optimizer.zero_grad()\n",
        "        loss.backward()\n",
        "        optimizer.step()\n",
        "\n",
        "    print(f\"Epoch [{epoch+1}/10], Loss: {loss.item():.4f}\")\n",
        "\n",
        "print(\"Training complete.\")"
      ],
      "metadata": {
        "colab": {
          "base_uri": "https://localhost:8080/",
          "height": 242
        },
        "id": "KFZHIHXi2K2A",
        "outputId": "69790576-c44f-45ff-f821-1e68e82d45af"
      },
      "execution_count": null,
      "outputs": [
        {
          "output_type": "error",
          "ename": "NameError",
          "evalue": "ignored",
          "traceback": [
            "\u001b[0;31m---------------------------------------------------------------------------\u001b[0m",
            "\u001b[0;31mNameError\u001b[0m                                 Traceback (most recent call last)",
            "\u001b[0;32m<ipython-input-2-fdade563e6b4>\u001b[0m in \u001b[0;36m<cell line: 2>\u001b[0;34m()\u001b[0m\n\u001b[1;32m      1\u001b[0m \u001b[0;31m# 初始化模型、損失函數和優化器\u001b[0m\u001b[0;34m\u001b[0m\u001b[0;34m\u001b[0m\u001b[0m\n\u001b[0;32m----> 2\u001b[0;31m \u001b[0mmodel\u001b[0m \u001b[0;34m=\u001b[0m \u001b[0mSimpleMLP\u001b[0m\u001b[0;34m(\u001b[0m\u001b[0;34m)\u001b[0m\u001b[0;34m\u001b[0m\u001b[0;34m\u001b[0m\u001b[0m\n\u001b[0m\u001b[1;32m      3\u001b[0m \u001b[0mcriterion\u001b[0m \u001b[0;34m=\u001b[0m \u001b[0mnn\u001b[0m\u001b[0;34m.\u001b[0m\u001b[0mMSELoss\u001b[0m\u001b[0;34m(\u001b[0m\u001b[0;34m)\u001b[0m\u001b[0;34m\u001b[0m\u001b[0;34m\u001b[0m\u001b[0m\n\u001b[1;32m      4\u001b[0m \u001b[0moptimizer\u001b[0m \u001b[0;34m=\u001b[0m \u001b[0moptim\u001b[0m\u001b[0;34m.\u001b[0m\u001b[0mAdam\u001b[0m\u001b[0;34m(\u001b[0m\u001b[0mmodel\u001b[0m\u001b[0;34m.\u001b[0m\u001b[0mparameters\u001b[0m\u001b[0;34m(\u001b[0m\u001b[0;34m)\u001b[0m\u001b[0;34m,\u001b[0m \u001b[0mlr\u001b[0m\u001b[0;34m=\u001b[0m\u001b[0;36m0.001\u001b[0m\u001b[0;34m)\u001b[0m\u001b[0;34m\u001b[0m\u001b[0;34m\u001b[0m\u001b[0m\n\u001b[1;32m      5\u001b[0m \u001b[0;34m\u001b[0m\u001b[0m\n",
            "\u001b[0;31mNameError\u001b[0m: name 'SimpleMLP' is not defined"
          ]
        }
      ]
    },
    {
      "cell_type": "code",
      "source": [
        "print(f\"Model is on: {next(model.parameters()).device}\")"
      ],
      "metadata": {
        "colab": {
          "base_uri": "https://localhost:8080/"
        },
        "id": "LslKBxs22iXY",
        "outputId": "0121dd51-60f0-44e7-cb28-11d4b59c2025"
      },
      "execution_count": null,
      "outputs": [
        {
          "output_type": "stream",
          "name": "stdout",
          "text": [
            "Model is on: cpu\n"
          ]
        }
      ]
    },
    {
      "cell_type": "code",
      "source": [
        "!nvidia-smi\n",
        "device = torch.device(\"cuda:0\")"
      ],
      "metadata": {
        "colab": {
          "base_uri": "https://localhost:8080/"
        },
        "id": "vXnUuQqA2gT8",
        "outputId": "81eee33e-1f03-4cce-d2bf-b0deaebd81b0"
      },
      "execution_count": null,
      "outputs": [
        {
          "output_type": "stream",
          "name": "stdout",
          "text": [
            "Mon Sep  4 11:01:32 2023       \n",
            "+-----------------------------------------------------------------------------+\n",
            "| NVIDIA-SMI 525.105.17   Driver Version: 525.105.17   CUDA Version: 12.0     |\n",
            "|-------------------------------+----------------------+----------------------+\n",
            "| GPU  Name        Persistence-M| Bus-Id        Disp.A | Volatile Uncorr. ECC |\n",
            "| Fan  Temp  Perf  Pwr:Usage/Cap|         Memory-Usage | GPU-Util  Compute M. |\n",
            "|                               |                      |               MIG M. |\n",
            "|===============================+======================+======================|\n",
            "|   0  Tesla T4            Off  | 00000000:00:04.0 Off |                    0 |\n",
            "| N/A   38C    P8     8W /  70W |      3MiB / 15360MiB |      0%      Default |\n",
            "|                               |                      |                  N/A |\n",
            "+-------------------------------+----------------------+----------------------+\n",
            "                                                                               \n",
            "+-----------------------------------------------------------------------------+\n",
            "| Processes:                                                                  |\n",
            "|  GPU   GI   CI        PID   Type   Process name                  GPU Memory |\n",
            "|        ID   ID                                                   Usage      |\n",
            "|=============================================================================|\n",
            "|  No running processes found                                                 |\n",
            "+-----------------------------------------------------------------------------+\n"
          ]
        }
      ]
    },
    {
      "cell_type": "code",
      "source": [],
      "metadata": {
        "id": "dKL1Kwlq2SPY"
      },
      "execution_count": null,
      "outputs": []
    }
  ]
}